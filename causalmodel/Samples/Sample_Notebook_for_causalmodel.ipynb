{
 "cells": [
  {
   "cell_type": "markdown",
   "metadata": {},
   "source": [
    "# Sample Notebook for causalmodel"
   ]
  },
  {
   "cell_type": "code",
   "execution_count": 13,
   "metadata": {},
   "outputs": [],
   "source": [
    "# create a notebook to showcase the causalmodel\n",
    "import sys\n",
    "sys.path.insert(0,'..')\n",
    "\n",
    "from potentialoutcome import PotentialOutcome "
   ]
  },
  {
   "cell_type": "code",
   "execution_count": 14,
   "metadata": {},
   "outputs": [],
   "source": [
    "import numpy as np\n",
    "\n",
    "def sigmoid(x):\n",
    "    return 1 / (1 + np.exp(-x))\n",
    "\n",
    "def get_data(N = 10000, k=5):\n",
    "    tau = 10\n",
    "    X = np.random.multivariate_normal(np.zeros(k), np.diag(np.ones(k)), N)\n",
    "    prob = sigmoid(X.dot(np.linspace(-1,1,k)))\n",
    "    Z = np.zeros(N)\n",
    "    unif = np.random.uniform(0,1,N)\n",
    "    Z[unif < prob] = 1\n",
    "    Y = tau*Z + X.dot(np.linspace(-1,1,k)) + np.random.normal(0,1,N)\n",
    "    return Y, Z, X"
   ]
  },
  {
   "cell_type": "code",
   "execution_count": 15,
   "metadata": {},
   "outputs": [
    {
     "name": "stdout",
     "output_type": "stream",
     "text": [
      "{'Average Treatment Effect': 10.014464256468397, 'Standard Error': 0.1449340533780837, 'z': 69.09669620806135, 'p-value': 0.0, '95% Confidence Interval': (9.730393511847353, 10.29853500108944)}\n",
      "{'Average Treatment Effect': 10.062139377600504, 'Standard Error': 0.027259132709891786, 'z': 369.1291093039493, 'p-value': 0.0, '95% Confidence Interval': (10.008711477489117, 10.115567277711891)}\n"
     ]
    }
   ],
   "source": [
    "from LearningModels import LogisticRegression\n",
    "from LearningModels import OLS\n",
    "\n",
    "po = PotentialOutcome(*get_data())\n",
    "print(po.est_via_ipw(LogisticRegression))\n",
    "print(po.est_via_aipw(OLS, LogisticRegression))"
   ]
  },
  {
   "cell_type": "code",
   "execution_count": 16,
   "metadata": {},
   "outputs": [],
   "source": [
    "def simulation(n=2000):\n",
    "    Z, SE, TAU = list(), list(), list()\n",
    "    for i in range(n):\n",
    "        po = PotentialOutcome(*get_data())\n",
    "        result = po.est_via_ipw(LogisticRegression)\n",
    "        z = result['z']\n",
    "        se = result['Standard Error']\n",
    "        Z.append(z)\n",
    "        SE.append(se)\n",
    "        TAU.append(result['Average Treatment Effect'])\n",
    "    return Z, SE, TAU"
   ]
  },
  {
   "cell_type": "code",
   "execution_count": 17,
   "metadata": {},
   "outputs": [
    {
     "data": {
      "image/png": "[encoded data removed]",
      "text/plain": [
       "<Figure size 432x288 with 1 Axes>"
      ]
     },
     "metadata": {
      "needs_background": "light"
     },
     "output_type": "display_data"
    }
   ],
   "source": [
    "import matplotlib.pyplot as plt\n",
    "from scipy.stats import norm\n",
    "\n",
    "Z, SE, TAU = simulation()\n",
    "_ = plt.hist((np.array(TAU) - 10)/np.sqrt(np.var(TAU)), density=True, bins='auto')\n",
    "x = np.linspace(-2,2)\n",
    "pdf = norm.pdf(x)\n",
    "_ = plt.plot(x,pdf)\n",
    "plt.show()"
   ]
  },
  {
   "cell_type": "code",
   "execution_count": 18,
   "metadata": {},
   "outputs": [
    {
     "data": {
      "image/png": "[encoded data removed]",
      "text/plain": [
       "<Figure size 432x288 with 1 Axes>"
      ]
     },
     "metadata": {
      "needs_background": "light"
     },
     "output_type": "display_data"
    }
   ],
   "source": [
    "import matplotlib.pyplot as plt\n",
    "from scipy.stats import norm\n",
    "\n",
    "def simulation2(n=1000):\n",
    "    Z, SE, TAU = list(), list(), list()\n",
    "    for i in range(n):\n",
    "        po = PotentialOutcome(*get_data())\n",
    "        result = po.est_via_aipw(OLS,LogisticRegression)\n",
    "        z = result['z']\n",
    "        se = result['Standard Error']\n",
    "        Z.append(z)\n",
    "        SE.append(se)\n",
    "        TAU.append(result['Average Treatment Effect'])\n",
    "    return Z, SE, TAU\n",
    "\n",
    "Z2, SE2, TAU2 = simulation2()\n",
    "_ = plt.hist((np.array(TAU2) - 10)/np.sqrt(np.var(TAU2)), density=True, bins='auto')\n",
    "x = np.linspace(-2,2)\n",
    "pdf = norm.pdf(x)\n",
    "_ = plt.plot(x,pdf)\n",
    "plt.show()"
   ]
  },
  {
   "cell_type": "code",
   "execution_count": null,
   "metadata": {},
   "outputs": [],
   "source": []
  }
 ],
 "metadata": {
  "kernelspec": {
   "display_name": "Python 3",
   "language": "python",
   "name": "python3"
  },
  "language_info": {
   "codemirror_mode": {
    "name": "ipython",
    "version": 3
   },
   "file_extension": ".py",
   "mimetype": "text/x-python",
   "name": "python",
   "nbconvert_exporter": "python",
   "pygments_lexer": "ipython3",
   "version": "3.6.9"
  }
 },
 "nbformat": 4,
 "nbformat_minor": 2
}
