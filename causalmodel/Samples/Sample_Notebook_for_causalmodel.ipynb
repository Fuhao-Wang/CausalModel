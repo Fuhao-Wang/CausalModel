{
 "cells": [
  {
   "cell_type": "markdown",
   "metadata": {},
   "source": [
    "# Sample Notebook for causalmodel"
   ]
  },
  {
   "cell_type": "code",
   "execution_count": 1,
   "metadata": {},
   "outputs": [],
   "source": [
    "# create a notebook to showcase the causalmodel\n",
    "import sys\n",
    "sys.path.insert(0,'..')\n",
    "\n",
    "from potentialoutcome import PotentialOutcome "
   ]
  },
  {
   "cell_type": "code",
   "execution_count": 2,
   "metadata": {},
   "outputs": [],
   "source": [
    "import numpy as np\n",
    "\n",
    "tau = 10\n",
    "\n",
    "def sigmoid(x):\n",
    "    return 1 / (1 + np.exp(-x))\n",
    "\n",
    "def get_data(N = 10000, k=2):\n",
    "    X = np.random.multivariate_normal(np.zeros(k), np.diag(np.ones(k)), N)*0.1\n",
    "    prob = sigmoid(X.dot(np.linspace(-1,1,k)))\n",
    "    Z = np.zeros(N)\n",
    "    unif = np.random.uniform(0,1,N)\n",
    "    Z[unif < prob] = 1\n",
    "    Y = tau*Z + X.dot(np.linspace(-1,1,k)) + np.random.normal(0,1,N)\n",
    "    return Y, Z, X, prob"
   ]
  },
  {
   "cell_type": "code",
   "execution_count": 3,
   "metadata": {},
   "outputs": [
    {
     "name": "stdout",
     "output_type": "stream",
     "text": [
      "********************\n",
      "average treatment effect: 10.008148997229942\n",
      "\n",
      "standard error:           0.10309217939740756\n",
      "\n",
      "p value:                  0.0\n",
      "\n",
      "confidence interval:      (9.806088325611023, 10.21020966884886)\n",
      "********************\n",
      "average treatment effect: 10.0075468636962\n",
      "\n",
      "standard error:           0.020034421154931495\n",
      "\n",
      "p value:                  0.0\n",
      "\n",
      "confidence interval:      (9.968279398232534, 10.046814329159867)\n"
     ]
    }
   ],
   "source": [
    "from LearningModels import LogisticRegression\n",
    "from LearningModels import OLS\n",
    "\n",
    "Y, Z, X, prob = get_data()\n",
    "po = PotentialOutcome(Y, Z, X)\n",
    "po.est_via_ipw(LogisticRegression).show()\n",
    "po.est_via_aipw(OLS, LogisticRegression).show()"
   ]
  },
  {
   "cell_type": "code",
   "execution_count": 6,
   "metadata": {},
   "outputs": [],
   "source": [
    "def simulation(n=2000):\n",
    "    Z_e, Z_thm, SE, SE_BOUND = list(), list(), list(), list()\n",
    "    for i in range(n):\n",
    "        Y, Z, X, prob = get_data()\n",
    "        po = PotentialOutcome(Y, Z, X)\n",
    "        result = po.est_via_ipw(LogisticRegression)\n",
    "        t = result.average_treatment_effect\n",
    "        se = result.standard_error\n",
    "        se_bound = np.sqrt(np.mean(1/prob + 1/(1-prob))/len(Z))\n",
    "        Z_e.append((t-tau)/se)\n",
    "        Z_thm.append((t-tau)/se_bound)\n",
    "        SE.append(se)\n",
    "        SE_BOUND.append(se_bound)\n",
    "    return Z_e, Z_thm, SE, SE_BOUND"
   ]
  },
  {
   "cell_type": "code",
   "execution_count": 7,
   "metadata": {},
   "outputs": [],
   "source": [
    "import matplotlib.pyplot as plt\n",
    "from scipy.stats import norm\n",
    "\n",
    "Z_e, Z_thm, SE, SE_BOUND = simulation()"
   ]
  },
  {
   "cell_type": "code",
   "execution_count": 8,
   "metadata": {},
   "outputs": [
    {
     "data": {
      "image/png": "[encoded data removed]",
      "text/plain": [
       "<Figure size 432x288 with 1 Axes>"
      ]
     },
     "metadata": {
      "needs_background": "light"
     },
     "output_type": "display_data"
    },
    {
     "name": "stdout",
     "output_type": "stream",
     "text": [
      "0.10230492885977441\n"
     ]
    }
   ],
   "source": [
    "_ = plt.hist(Z_e, density=True, bins='auto',range=(-3,3))\n",
    "x = np.linspace(-3,3)\n",
    "pdf = norm.pdf(x)\n",
    "_ = plt.plot(x,pdf)\n",
    "plt.show()\n",
    "print(np.mean(SE))"
   ]
  },
  {
   "cell_type": "code",
   "execution_count": 9,
   "metadata": {},
   "outputs": [
    {
     "data": {
      "image/png": "[encoded data removed]",
      "text/plain": [
       "<Figure size 432x288 with 1 Axes>"
      ]
     },
     "metadata": {
      "needs_background": "light"
     },
     "output_type": "display_data"
    },
    {
     "name": "stdout",
     "output_type": "stream",
     "text": [
      "0.020050220175713448\n"
     ]
    }
   ],
   "source": [
    "_ = plt.hist(Z_thm, density=True, bins='auto',range=(-3,3))\n",
    "x = np.linspace(-3,3)\n",
    "pdf = norm.pdf(x)\n",
    "_ = plt.plot(x,pdf)\n",
    "plt.show()\n",
    "print(np.mean(SE_BOUND))"
   ]
  },
  {
   "cell_type": "code",
   "execution_count": 11,
   "metadata": {},
   "outputs": [
    {
     "data": {
      "image/png": "[encoded data removed]",
      "text/plain": [
       "<Figure size 432x288 with 1 Axes>"
      ]
     },
     "metadata": {
      "needs_background": "light"
     },
     "output_type": "display_data"
    }
   ],
   "source": [
    "import matplotlib.pyplot as plt\n",
    "from scipy.stats import norm\n",
    "\n",
    "def simulation2(n=1000):\n",
    "    Z, SE, TAU = list(), list(), list()\n",
    "    for i in range(n):\n",
    "        Y, T, X, prob = get_data()\n",
    "        po = PotentialOutcome(Y, T, X)\n",
    "        result = po.est_via_aipw(OLS,LogisticRegression)\n",
    "        z = result.z\n",
    "        se = result.standard_error\n",
    "        Z.append(z)\n",
    "        SE.append(se)\n",
    "        TAU.append(result.average_treatment_effect)\n",
    "    return Z, SE, TAU\n",
    "\n",
    "Z2, SE2, TAU2 = simulation2()\n",
    "_ = plt.hist((np.array(TAU2) - tau)/np.sqrt(np.var(TAU2)), density=True, bins='auto', range=(-3,3))\n",
    "x = np.linspace(-3,3)\n",
    "pdf = norm.pdf(x)\n",
    "_ = plt.plot(x,pdf)\n",
    "plt.show()"
   ]
  },
  {
   "cell_type": "code",
   "execution_count": null,
   "metadata": {},
   "outputs": [],
   "source": []
  }
 ],
 "metadata": {
  "kernelspec": {
   "display_name": "Python 3",
   "language": "python",
   "name": "python3"
  },
  "language_info": {
   "codemirror_mode": {
    "name": "ipython",
    "version": 3
   },
   "file_extension": ".py",
   "mimetype": "text/x-python",
   "name": "python",
   "nbconvert_exporter": "python",
   "pygments_lexer": "ipython3",
   "version": "3.6.9"
  }
 },
 "nbformat": 4,
 "nbformat_minor": 2
}
