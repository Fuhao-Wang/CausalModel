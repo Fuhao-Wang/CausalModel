{
 "cells": [
  {
   "cell_type": "code",
   "execution_count": 1,
   "metadata": {},
   "outputs": [
    {
     "name": "stdout",
     "output_type": "stream",
     "text": [
      "['..', '/Users/liujizhou/anaconda3/lib/python36.zip', '/Users/liujizhou/anaconda3/lib/python3.6', '/Users/liujizhou/anaconda3/lib/python3.6/lib-dynload', '', '/Users/liujizhou/anaconda3/lib/python3.6/site-packages', '/Users/liujizhou/anaconda3/lib/python3.6/site-packages/aeosa', '/Users/liujizhou/anaconda3/lib/python3.6/site-packages/IPython/extensions', '/Users/liujizhou/.ipython']\n"
     ]
    }
   ],
   "source": [
    "import sys\n",
    "sys.path.insert(0,'..')\n",
    "sys.path.insert(0,'....')\n",
    "print(sys.path)"
   ]
  },
  {
   "cell_type": "code",
   "execution_count": 2,
   "metadata": {},
   "outputs": [],
   "source": [
    "from designs import DesignBase"
   ]
  },
  {
   "cell_type": "code",
   "execution_count": null,
   "metadata": {},
   "outputs": [],
   "source": []
  }
 ],
 "metadata": {
  "kernelspec": {
   "display_name": "Python 3",
   "language": "python",
   "name": "python3"
  },
  "language_info": {
   "codemirror_mode": {
    "name": "ipython",
    "version": 3
   },
   "file_extension": ".py",
   "mimetype": "text/x-python",
   "name": "python",
   "nbconvert_exporter": "python",
   "pygments_lexer": "ipython3",
   "version": "3.6.9"
  }
 },
 "nbformat": 4,
 "nbformat_minor": 4
}
