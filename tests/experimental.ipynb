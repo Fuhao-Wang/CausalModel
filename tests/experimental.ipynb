{
 "cells": [
  {
   "cell_type": "code",
   "execution_count": 1,
   "metadata": {},
   "outputs": [],
   "source": [
    "import sys\n",
    "sys.path.insert(0,'..')"
   ]
  },
  {
   "cell_type": "code",
   "execution_count": 7,
   "metadata": {},
   "outputs": [
    {
     "name": "stdout",
     "output_type": "stream",
     "text": [
      "[0. 0. 1. 1. 1. 0. 0. 1. 0. 1.]\n",
      "[0. 0. 1. 0. 1. 1. 1. 0. 0. 0. 0. 1. 0. 1. 1. 0. 1. 1. 0. 0. 1. 0. 0. 1.\n",
      " 1. 1. 1. 1. 0. 1. 1. 0. 1. 0. 0. 0. 0. 0. 0. 1. 0. 1. 0. 0. 1. 0. 1. 0.\n",
      " 0. 1. 0. 0. 1. 1. 0. 1. 1. 0. 0. 1. 0. 0. 0. 1. 0. 0. 1. 1. 0. 0. 1. 1.\n",
      " 1. 0. 1. 0. 0. 0. 1. 1. 1. 1. 1. 1. 0. 0. 1. 0. 1. 1. 0. 1. 1. 1. 0. 1.\n",
      " 1. 0. 1. 0.]\n"
     ]
    },
    {
     "ename": "RecursionError",
     "evalue": "maximum recursion depth exceeded while calling a Python object",
     "output_type": "error",
     "traceback": [
      "\u001b[0;31m---------------------------------------------------------------------------\u001b[0m",
      "\u001b[0;31mRecursionError\u001b[0m                            Traceback (most recent call last)",
      "\u001b[0;32m<ipython-input-7-714b4b007274>\u001b[0m in \u001b[0;36m<module>\u001b[0;34m\u001b[0m\n\u001b[1;32m      9\u001b[0m \u001b[0mprint\u001b[0m\u001b[0;34m(\u001b[0m\u001b[0mcrd\u001b[0m\u001b[0;34m.\u001b[0m\u001b[0mdraw\u001b[0m\u001b[0;34m(\u001b[0m\u001b[0;36m100\u001b[0m\u001b[0;34m)\u001b[0m\u001b[0;34m)\u001b[0m\u001b[0;34m\u001b[0m\u001b[0;34m\u001b[0m\u001b[0m\n\u001b[1;32m     10\u001b[0m \u001b[0;34m\u001b[0m\u001b[0m\n\u001b[0;32m---> 11\u001b[0;31m \u001b[0mbnli\u001b[0m \u001b[0;34m=\u001b[0m \u001b[0mBernoulli\u001b[0m\u001b[0;34m(\u001b[0m\u001b[0;34m)\u001b[0m\u001b[0;34m\u001b[0m\u001b[0;34m\u001b[0m\u001b[0m\n\u001b[0m\u001b[1;32m     12\u001b[0m \u001b[0;31m#print(bnli.draw(10))\u001b[0m\u001b[0;34m\u001b[0m\u001b[0;34m\u001b[0m\u001b[0;34m\u001b[0m\u001b[0m\n",
      "\u001b[0;32m~/Desktop/casual inference/CausalModel/causalmodel/designs/bernoulli.py\u001b[0m in \u001b[0;36m__init__\u001b[0;34m(self, treated_prob, covariate, balance, eps, max_iter)\u001b[0m\n\u001b[1;32m      8\u001b[0m                  eps=0.1, max_iter=1000):\n\u001b[1;32m      9\u001b[0m         super(self.__class__, self).__init__(treated_prob, covariate, \n\u001b[0;32m---> 10\u001b[0;31m                                     balance, eps, max_iter)\n\u001b[0m\u001b[1;32m     11\u001b[0m \u001b[0;34m\u001b[0m\u001b[0m\n\u001b[1;32m     12\u001b[0m \u001b[0;34m\u001b[0m\u001b[0m\n",
      "\u001b[0;32m~/Desktop/casual inference/CausalModel/causalmodel/designs/crd.py\u001b[0m in \u001b[0;36m__init__\u001b[0;34m(self, treated_ratio, covariate, balance, eps, max_iter)\u001b[0m\n\u001b[1;32m     10\u001b[0m                  eps=0.1, max_iter=1000):\n\u001b[1;32m     11\u001b[0m         super(self.__class__, self).__init__(treated_ratio, covariate, \n\u001b[0;32m---> 12\u001b[0;31m                                     balance, eps, max_iter)\n\u001b[0m\u001b[1;32m     13\u001b[0m         \u001b[0mself\u001b[0m\u001b[0;34m.\u001b[0m\u001b[0mtemplate\u001b[0m \u001b[0;34m=\u001b[0m \u001b[0;32mNone\u001b[0m\u001b[0;34m\u001b[0m\u001b[0;34m\u001b[0m\u001b[0m\n\u001b[1;32m     14\u001b[0m \u001b[0;34m\u001b[0m\u001b[0m\n",
      "... last 1 frames repeated, from the frame below ...\n",
      "\u001b[0;32m~/Desktop/casual inference/CausalModel/causalmodel/designs/crd.py\u001b[0m in \u001b[0;36m__init__\u001b[0;34m(self, treated_ratio, covariate, balance, eps, max_iter)\u001b[0m\n\u001b[1;32m     10\u001b[0m                  eps=0.1, max_iter=1000):\n\u001b[1;32m     11\u001b[0m         super(self.__class__, self).__init__(treated_ratio, covariate, \n\u001b[0;32m---> 12\u001b[0;31m                                     balance, eps, max_iter)\n\u001b[0m\u001b[1;32m     13\u001b[0m         \u001b[0mself\u001b[0m\u001b[0;34m.\u001b[0m\u001b[0mtemplate\u001b[0m \u001b[0;34m=\u001b[0m \u001b[0;32mNone\u001b[0m\u001b[0;34m\u001b[0m\u001b[0;34m\u001b[0m\u001b[0m\n\u001b[1;32m     14\u001b[0m \u001b[0;34m\u001b[0m\u001b[0m\n",
      "\u001b[0;31mRecursionError\u001b[0m: maximum recursion depth exceeded while calling a Python object"
     ]
    }
   ],
   "source": [
    "import numpy as np\n",
    "from causalmodel.designs import DesignBase, CRD, Bernoulli\n",
    "\n",
    "crd = CRD()\n",
    "print(crd.draw(10))\n",
    "\n",
    "X = np.random.normal(0,1,size=(100,2))\n",
    "crd = CRD(covariate=X, balance=True)\n",
    "print(crd.draw(100))\n",
    "\n",
    "bnli = Bernoulli()\n",
    "#print(bnli.draw(10))"
   ]
  },
  {
   "cell_type": "code",
   "execution_count": 3,
   "metadata": {},
   "outputs": [
    {
     "name": "stdout",
     "output_type": "stream",
     "text": [
      "********************\n",
      "average treatment effect: 11.448833445647926\n",
      "\n",
      "standard error:           0.03148482173522997\n",
      "\n",
      "p value:                  0.0\n",
      "\n",
      "confidence interval:      (11.387123195046875, 11.510543696248977)\n"
     ]
    }
   ],
   "source": [
    "from causalmodel.experimental import Experimental\n",
    "from causalmodel.utils.random_data import get_data\n",
    "\n",
    "Y, Z, X = get_data()\n",
    "exp = Experimental(Y, Z, X)\n",
    "exp.estimate().show()"
   ]
  },
  {
   "cell_type": "code",
   "execution_count": 4,
   "metadata": {},
   "outputs": [
    {
     "name": "stdout",
     "output_type": "stream",
     "text": [
      "********************\n",
      "average treatment effect: 11.448587167513448\n",
      "\n",
      "standard error:           0.03147594488830996\n",
      "\n",
      "p value:                  0.0\n",
      "\n",
      "confidence interval:      (11.386894315532361, 11.510280019494536)\n"
     ]
    }
   ],
   "source": [
    "strata = np.random.choice([0,1,2],len(Y))\n",
    "exp.est_via_strata(strata).show()"
   ]
  },
  {
   "cell_type": "code",
   "execution_count": 5,
   "metadata": {},
   "outputs": [
    {
     "name": "stdout",
     "output_type": "stream",
     "text": [
      "********************\n",
      "average treatment effect: 9.999044281740225\n",
      "\n",
      "standard error:           0.023604890995131526\n",
      "\n",
      "p value:                  0.0\n",
      "\n",
      "confidence interval:      (9.952778695389767, 10.045309868090683)\n"
     ]
    }
   ],
   "source": [
    "exp.est_via_ancova().show()"
   ]
  },
  {
   "cell_type": "code",
   "execution_count": 6,
   "metadata": {},
   "outputs": [
    {
     "data": {
      "text/plain": [
       "0.0"
      ]
     },
     "execution_count": 6,
     "metadata": {},
     "output_type": "execute_result"
    }
   ],
   "source": [
    "exp.test_via_fisher()"
   ]
  },
  {
   "cell_type": "code",
   "execution_count": null,
   "metadata": {},
   "outputs": [],
   "source": []
  }
 ],
 "metadata": {
  "kernelspec": {
   "display_name": "Python 3",
   "language": "python",
   "name": "python3"
  },
  "language_info": {
   "codemirror_mode": {
    "name": "ipython",
    "version": 3
   },
   "file_extension": ".py",
   "mimetype": "text/x-python",
   "name": "python",
   "nbconvert_exporter": "python",
   "pygments_lexer": "ipython3",
   "version": "3.6.9"
  }
 },
 "nbformat": 4,
 "nbformat_minor": 4
}
